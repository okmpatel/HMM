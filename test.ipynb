{
 "cells": [
  {
   "cell_type": "code",
   "execution_count": 1,
   "id": "dc089f87",
   "metadata": {},
   "outputs": [
    {
     "name": "stdout",
     "output_type": "stream",
     "text": [
      "likehod:  0.12886459782042922\n",
      "prob:  0.00032216149455107306\n"
     ]
    }
   ],
   "source": [
    "from scipy.stats import norm\n",
    "likehood = norm.pdf(5.2476967371604015, 6, 3)\n",
    "print('likehod: ',likehood)\n",
    "prob = 0.0025 * likehood\n",
    "print('prob: ', prob)\n"
   ]
  },
  {
   "cell_type": "code",
   "execution_count": null,
   "id": "ce02b79f",
   "metadata": {},
   "outputs": [
    {
     "name": "stdout",
     "output_type": "stream",
     "text": [
      "1.3333333333333333\n"
     ]
    }
   ],
   "source": [
    "prior = 1 /(gridSize * gridSize)\n",
    "\n",
    "    for x in range(gridSize):\n",
    "        for y in range(gridSize):\n",
    "            prob = prior\n",
    "            for t in range(observation.shape[0]):\n",
    "                agentX = observation.iloc[t, 0]\n",
    "                agentY = observation.iloc[t, 1]\n",
    "                eDist  = observation.iloc[t, 2]\n",
    "\n",
    "                dx = abs(agentX - x)\n",
    "                dy = abs(agentY - y)\n",
    "                dx = min(dx, (gridSize - dx))\n",
    "                dy = min(dy, (gridSize - dy))\n",
    "\n",
    "                distance = math.sqrt(dx**2 + dy**2)\n",
    "\n",
    "                likehood = norm.pdf(eDist, distance, std)\n",
    "                prob *= likehood\n",
    "                p_map[x, y] = prob\n",
    "\n",
    "    total = np.sum(p_map)\n",
    "    if total > 0:\n",
    "        p_map /= total\n",
    "\n",
    "    print(p_map)"
   ]
  },
  {
   "cell_type": "code",
   "execution_count": null,
   "id": "92bcb487",
   "metadata": {},
   "outputs": [],
   "source": [
    "# Function: Get Belief\n",
    "# ---------------------\n",
    "# Updates beliefs based on the distance observation and your car's (agent's) position.\n",
    "# Returns your belief of the probability that the car is in each tile. Your\n",
    "# belief probabilities should sum to 1.\n",
    "# @return the probability matrix\n",
    "def getBelief(observation, gridSize, carLength):\n",
    "    std = carLength * (1/3)\n",
    "\n",
    "    #your code\n",
    "    # p_map = np.zeros((gridSize, gridSize))\n",
    "\n",
    "    \n",
    "    # Initialize a uniform prior over all grid locations\n",
    "    # p_map[i][j] represents the probability that the hidden car is at row i, column j.\n",
    "    p_map = np.ones((gridSize, gridSize), dtype=float) / (gridSize * gridSize)\n",
    "\n",
    "    # If the observation is provided as a DataFrame, iterate over its rows.\n",
    "    # Each row gives the agent's position (agentX, agentY) and a noisy distance measurement (eDist).\n",
    "    # For a stationary car, we update the belief by multiplying the prior by the likelihood\n",
    "    # of observing each distance measurement given the hidden car location.\n",
    "    for _, row in (observation.iterrows() if isinstance(observation, pd.DataFrame) else enumerate(observation)):\n",
    "        agent_x = int(row['agentX'])\n",
    "        agent_y = int(row['agentY'])\n",
    "        measured_dist = row['eDist']\n",
    "\n",
    "        # Update the belief for every possible car position (i, j)\n",
    "        for i in range(gridSize):\n",
    "            for j in range(gridSize):\n",
    "                # Compute toroidal (periodic) distance in x and y directions\n",
    "                dx = min(abs(agent_x - i), gridSize - abs(agent_x - i))\n",
    "                dy = min(abs(agent_y - j), gridSize - abs(agent_y - j))\n",
    "                true_dist = math.sqrt(dx * dx + dy * dy)\n",
    "                # Likelihood of the observed distance given the true distance\n",
    "                likelihood = norm.pdf(measured_dist, loc=true_dist, scale=std)\n",
    "                # Multiply the prior belief by the likelihood\n",
    "                p_map[i, j] *= likelihood\n",
    "\n",
    "        # Normalize the probabilities to sum to 1 after each observation to avoid underflow\n",
    "        total = p_map.sum()\n",
    "        if total > 0:\n",
    "            p_map /= total\n",
    "\n",
    "    return p_map\n"
   ]
  }
 ],
 "metadata": {
  "kernelspec": {
   "display_name": ".venv",
   "language": "python",
   "name": "python3"
  },
  "language_info": {
   "codemirror_mode": {
    "name": "ipython",
    "version": 3
   },
   "file_extension": ".py",
   "mimetype": "text/x-python",
   "name": "python",
   "nbconvert_exporter": "python",
   "pygments_lexer": "ipython3",
   "version": "3.12.3"
  }
 },
 "nbformat": 4,
 "nbformat_minor": 5
}
