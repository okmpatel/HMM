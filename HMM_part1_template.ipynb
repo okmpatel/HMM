{
 "cells": [
  {
   "cell_type": "code",
   "execution_count": 1,
   "id": "7f4765dc-b775-40f4-9a95-0a4eb3af4af0",
   "metadata": {},
   "outputs": [],
   "source": [
    "# Python program to HMM with 2 parts.\n",
    "# Part1: figure out where the stationary \"hidden\" car is!\n",
    "# The car and your agent (car) live in a nxn periodic grid world.\n",
    "# assume a shape of car is square, length is 1\n",
    "\n",
    "import numpy as np\n",
    "import pandas as pd\n",
    "import sys\n",
    "from scipy.stats import norm\n",
    "import math\n",
    "import matplotlib.pyplot as plt\n",
    "import matplotlib.colors as colors"
   ]
  },
  {
   "cell_type": "code",
   "execution_count": 2,
   "id": "63aefbb3-080a-41f2-b4b2-593861fcf181",
   "metadata": {},
   "outputs": [],
   "source": [
    "# create discrete colormap to illustrate your belief\n",
    "# dark red - most likely the position of the car!\n",
    "# red - more likely the position of the car\n",
    "# Gray level - belief level, darker = higher belief\n",
    "def seeTrackedCar(gridIm):\n",
    "    cmap = colors.ListedColormap(\n",
    "        ['whitesmoke', 'gainsboro', 'silver', 'lightgray',\n",
    "         'dimgray', 'gray', 'darkgray',  'red', 'darkred', 'orange'])\n",
    "    bounds = [0, .1, .2, .3, .4, .5, .6, .7, .8, .9, 1.0]\n",
    "    norm = colors.BoundaryNorm(bounds, cmap.N)\n",
    "    fig, ax = plt.subplots()\n",
    "    ax.imshow(gridIm, cmap=cmap, norm=norm)\n",
    "    # draw gridlines\n",
    "    ax.grid(which='major', axis='both', linestyle='-', color='k', linewidth=1)\n",
    "    #\n",
    "    #ax.invert_yaxis()\n",
    "    ax.set_xticks(np.arange(0, gridIm.shape[1], 1))\n",
    "    ax.set_yticks(np.arange(0, gridIm.shape[0], 1))\n",
    "    plt.show()"
   ]
  },
  {
   "cell_type": "code",
   "execution_count": 3,
   "id": "68c74129-dbe9-4ebb-bd0a-aee055ebcf8e",
   "metadata": {},
   "outputs": [],
   "source": [
    "# print the values stored on grid just in case you are interested in the numbers\n",
    "# i = x = row,  j = y = column\n",
    "def printGrid(grid):\n",
    "    for i in range(grid.shape[0]):\n",
    "        for j in range(grid.shape[1]-1):\n",
    "            print(f\"{grid[i][j]:.3f}, \", end=\"\")\n",
    "        print(f\"{grid[i][grid.shape[1] - 1]:.3f}\")\n"
   ]
  },
  {
   "cell_type": "code",
   "execution_count": 15,
   "id": "8c354b20-1790-41a4-8ea7-8f929def250e",
   "metadata": {},
   "outputs": [],
   "source": [
    "# Function: Get Belief\n",
    "# ---------------------\n",
    "# Updates beliefs based on the distance observation and your car's (agent's) position.\n",
    "# Returns your belief of the probability that the car is in each tile. Your\n",
    "# belief probabilities should sum to 1.\n",
    "# @return the probability matrix\n",
    "def getBelief(observation, gridSize, carLength):\n",
    "    std = carLength * 1. / 3\n",
    "\n",
    "    #your code\n",
    "    p_map = np.zeros((gridSize, gridSize))\n",
    "    \n",
    "    \n",
    "   \n",
    "    return p_map\n"
   ]
  },
  {
   "cell_type": "code",
   "execution_count": 17,
   "id": "363a071f-d83e-42cf-9906-e8beb05844de",
   "metadata": {
    "scrolled": true
   },
   "outputs": [
    {
     "name": "stdout",
     "output_type": "stream",
     "text": [
      "20 10 stationaryCarReading10.csv\n",
      "p max 0.0 is at (row, column) (0, 0)\n"
     ]
    },
    {
     "data": {
      "image/png": "[encoded data removed]",
      "text/plain": [
       "<Figure size 640x480 with 1 Axes>"
      ]
     },
     "metadata": {},
     "output_type": "display_data"
    },
    {
     "name": "stdout",
     "output_type": "stream",
     "text": [
      "0.000, 0.000, 0.000, 0.000, 0.000, 0.000, 0.000, 0.000, 0.000, 0.000, 0.000, 0.000, 0.000, 0.000, 0.000, 0.000, 0.000, 0.000, 0.000, 0.000\n",
      "0.000, 0.000, 0.000, 0.000, 0.000, 0.000, 0.000, 0.000, 0.000, 0.000, 0.000, 0.000, 0.000, 0.000, 0.000, 0.000, 0.000, 0.000, 0.000, 0.000\n",
      "0.000, 0.000, 0.000, 0.000, 0.000, 0.000, 0.000, 0.000, 0.000, 0.000, 0.000, 0.000, 0.000, 0.000, 0.000, 0.000, 0.000, 0.000, 0.000, 0.000\n",
      "0.000, 0.000, 0.000, 0.000, 0.000, 0.000, 0.000, 0.000, 0.000, 0.000, 0.000, 0.000, 0.000, 0.000, 0.000, 0.000, 0.000, 0.000, 0.000, 0.000\n",
      "0.000, 0.000, 0.000, 0.000, 0.000, 0.000, 0.000, 0.000, 0.000, 0.000, 0.000, 0.000, 0.000, 0.000, 0.000, 0.000, 0.000, 0.000, 0.000, 0.000\n",
      "0.000, 0.000, 0.000, 0.000, 0.000, 0.000, 0.000, 0.000, 0.000, 0.000, 0.000, 0.000, 0.000, 0.000, 0.000, 0.000, 0.000, 0.000, 0.000, 0.000\n",
      "0.000, 0.000, 0.000, 0.000, 0.000, 0.000, 0.000, 0.000, 0.000, 0.000, 0.000, 0.000, 0.000, 0.000, 0.000, 0.000, 0.000, 0.000, 0.000, 0.000\n",
      "0.000, 0.000, 0.000, 0.000, 0.000, 0.000, 0.000, 0.000, 0.000, 0.000, 0.000, 0.000, 0.000, 0.000, 0.000, 0.000, 0.000, 0.000, 0.000, 0.000\n",
      "0.000, 0.000, 0.000, 0.000, 0.000, 0.000, 0.000, 0.000, 0.000, 0.000, 0.000, 0.000, 0.000, 0.000, 0.000, 0.000, 0.000, 0.000, 0.000, 0.000\n",
      "0.000, 0.000, 0.000, 0.000, 0.000, 0.000, 0.000, 0.000, 0.000, 0.000, 0.000, 0.000, 0.000, 0.000, 0.000, 0.000, 0.000, 0.000, 0.000, 0.000\n",
      "0.000, 0.000, 0.000, 0.000, 0.000, 0.000, 0.000, 0.000, 0.000, 0.000, 0.000, 0.000, 0.000, 0.000, 0.000, 0.000, 0.000, 0.000, 0.000, 0.000\n",
      "0.000, 0.000, 0.000, 0.000, 0.000, 0.000, 0.000, 0.000, 0.000, 0.000, 0.000, 0.000, 0.000, 0.000, 0.000, 0.000, 0.000, 0.000, 0.000, 0.000\n",
      "0.000, 0.000, 0.000, 0.000, 0.000, 0.000, 0.000, 0.000, 0.000, 0.000, 0.000, 0.000, 0.000, 0.000, 0.000, 0.000, 0.000, 0.000, 0.000, 0.000\n",
      "0.000, 0.000, 0.000, 0.000, 0.000, 0.000, 0.000, 0.000, 0.000, 0.000, 0.000, 0.000, 0.000, 0.000, 0.000, 0.000, 0.000, 0.000, 0.000, 0.000\n",
      "0.000, 0.000, 0.000, 0.000, 0.000, 0.000, 0.000, 0.000, 0.000, 0.000, 0.000, 0.000, 0.000, 0.000, 0.000, 0.000, 0.000, 0.000, 0.000, 0.000\n",
      "0.000, 0.000, 0.000, 0.000, 0.000, 0.000, 0.000, 0.000, 0.000, 0.000, 0.000, 0.000, 0.000, 0.000, 0.000, 0.000, 0.000, 0.000, 0.000, 0.000\n",
      "0.000, 0.000, 0.000, 0.000, 0.000, 0.000, 0.000, 0.000, 0.000, 0.000, 0.000, 0.000, 0.000, 0.000, 0.000, 0.000, 0.000, 0.000, 0.000, 0.000\n",
      "0.000, 0.000, 0.000, 0.000, 0.000, 0.000, 0.000, 0.000, 0.000, 0.000, 0.000, 0.000, 0.000, 0.000, 0.000, 0.000, 0.000, 0.000, 0.000, 0.000\n",
      "0.000, 0.000, 0.000, 0.000, 0.000, 0.000, 0.000, 0.000, 0.000, 0.000, 0.000, 0.000, 0.000, 0.000, 0.000, 0.000, 0.000, 0.000, 0.000, 0.000\n",
      "0.000, 0.000, 0.000, 0.000, 0.000, 0.000, 0.000, 0.000, 0.000, 0.000, 0.000, 0.000, 0.000, 0.000, 0.000, 0.000, 0.000, 0.000, 0.000, 0.000\n"
     ]
    }
   ],
   "source": [
    "# No need to change this function.\n",
    "def hmm_part1(gridSize, reportingTime, microphoneReadingFileName):\n",
    "    \n",
    "    carLength = 1\n",
    "    print(gridSize, reportingTime, microphoneReadingFileName)\n",
    "\n",
    "    df = pd.read_csv(microphoneReadingFileName, nrows=reportingTime)  # reading only reportingTime rows\n",
    "    \n",
    "    carPosBelief = getBelief(df, gridSize, carLength)  # return numpy array of probabilities\n",
    "    \n",
    "    #Indices of max element in flattened array\n",
    "    indices = (np.unravel_index(np.argmax(carPosBelief), carPosBelief.shape))\n",
    "    print(\"p max\",  carPosBelief.max(), \"is at (row, column)\", indices)\n",
    "    \n",
    "    seeTrackedCar(carPosBelief)\n",
    "    printGrid(carPosBelief)\n",
    "    \n",
    "    df = pd.DataFrame(carPosBelief, columns=np.array(list(range(gridSize))))\n",
    "\n",
    "    outputFileName = \"probMap_gridSize\" + str(gridSize)+\"_atTime\" + str(reportingTime) + \".csv\"\n",
    "    df.to_csv(\n",
    "        outputFileName,\n",
    "        sep=',',\n",
    "        float_format=\"%.3f\",\n",
    "        index=False\n",
    "    )\n",
    "    return\n",
    "\n",
    "gridSize = 20\n",
    "reportingTime = 10\n",
    "microphoneReadingFileName = \"stationaryCarReading10.csv\"\n",
    "hmm_part1(gridSize, reportingTime, microphoneReadingFileName)"
   ]
  },
  {
   "cell_type": "code",
   "execution_count": null,
   "id": "d7ed70eb-9603-4ba1-b681-92886f7d0993",
   "metadata": {},
   "outputs": [],
   "source": []
  }
 ],
 "metadata": {
  "kernelspec": {
   "display_name": "Python 3 (ipykernel)",
   "language": "python",
   "name": "python3"
  },
  "language_info": {
   "codemirror_mode": {
    "name": "ipython",
    "version": 3
   },
   "file_extension": ".py",
   "mimetype": "text/x-python",
   "name": "python",
   "nbconvert_exporter": "python",
   "pygments_lexer": "ipython3",
   "version": "3.12.3"
  }
 },
 "nbformat": 4,
 "nbformat_minor": 5
}
